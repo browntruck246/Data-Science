{
  "metadata": {
    "kernelspec": {
      "name": "python",
      "display_name": "Python (Pyodide)",
      "language": "python"
    },
    "language_info": {
      "codemirror_mode": {
        "name": "python",
        "version": 3
      },
      "file_extension": ".py",
      "mimetype": "text/x-python",
      "name": "python",
      "nbconvert_exporter": "python",
      "pygments_lexer": "ipython3",
      "version": "3.8"
    }
  },
  "nbformat_minor": 5,
  "nbformat": 4,
  "cells": [
    {
      "id": "34735a23-045a-49cd-967d-46501641f19d",
      "cell_type": "markdown",
      "source": "## CH03/03 Parse Time",
      "metadata": {}
    },
    {
      "id": "f202cb83-80ae-470b-972c-a6d2162337f7",
      "cell_type": "code",
      "source": "import pandas as pd",
      "metadata": {
        "trusted": true
      },
      "outputs": [],
      "execution_count": 2
    },
    {
      "id": "3d527f36-f6eb-4e37-9e39-7d1b2e994746",
      "cell_type": "markdown",
      "source": "Let's load our Data Frame. So we import pandas and we read the CSV and we display the data types. For each column. You can see the latitude, longitude and height are floats and the **time is an object, which usually means a string in panels**. In some cases it's OK for data to be a string, but in our case you expect some kind of a timestamp, unlike JSON and other formats, CSV don't have type information embedded with the data. Which means that everything comes out as a string. Pandas does a good job at guessing types, but here it needs our help in parsing the time. ",
      "metadata": {}
    },
    {
      "id": "b9ba574a-3edd-4f8a-ac0a-7d1c286f8a99",
      "cell_type": "code",
      "source": "csv_file = 'track.csv'\ndf = pd.read_csv(csv_file)\ndf.dtypes",
      "metadata": {
        "trusted": true
      },
      "outputs": [
        {
          "execution_count": 3,
          "output_type": "execute_result",
          "data": {
            "text/plain": "time       object\nlat       float64\nlng       float64\nheight    float64\ndtype: object"
          },
          "metadata": {}
        }
      ],
      "execution_count": 3
    },
    {
      "id": "976095cb-be25-43e9-8477-0e686a9c8ad5",
      "cell_type": "markdown",
      "source": "There are many ways to write time as a string. **Pandas parser know most of the common formats.** If you **need to write time as a string**, do yourself a favor and use a known **format such as RFC 3339**. Also pick a format without spaces in it. And have the **year first, so sorting time as a string will work as intended**. ",
      "metadata": {}
    },
    {
      "id": "86186584-3a51-4a71-ab45-5632d4ccebb1",
      "cell_type": "markdown",
      "source": "Let's take a look at the **read CSV method**. It has many many arguments. One of these arguments. Is past dates where you can pass a list of columns to be passed as times.",
      "metadata": {}
    },
    {
      "id": "a455ca61-b218-43eb-901d-f76761230091",
      "cell_type": "markdown",
      "source": "https://pandas.pydata.org/pandas-docs/stable/reference/api/pandas.read_csv.html",
      "metadata": {}
    },
    {
      "id": "66a54850-8ca6-45f8-8507-ee58b1a7a8fc",
      "cell_type": "markdown",
      "source": "**parse_dates : bool, list of Hashable, list of lists or dict of {Hashablelist}, default False**      \nThe behavior is as follows:\n\n* bool. If True -> try parsing the index. Note: Automatically set to True if date_format or date_parser arguments have been passed.\n\n* list of int or names. e.g. If [1, 2, 3] -> try parsing columns 1, 2, 3 each as a separate date column.\n\n* list of list. e.g. If [[1, 3]] -> combine columns 1 and 3 and parse as a single date column. Values are joined with a space before parsing.\n\n* dict, e.g. {'foo' : [1, 3]} -> parse columns 1, 3 as date and call result ‘foo’. Values are joined with a space before parsing.\n\nIf a column or index cannot be represented as an array of datetime, say because of an unparsable value or a mixture of timezones, the column or index will be returned unaltered as an object data type. For non-standard datetime parsing, use to_datetime() after read_csv().\n\nNote: A fast-path exists for iso8601-formatted dates.",
      "metadata": {}
    },
    {
      "id": "627912c6-5462-40f4-832b-13b13d5ed56a",
      "cell_type": "markdown",
      "source": "This is where our initial look at the data came handy. You know before loading which column you'd like to pass this time. **We're doing load pandas with CSV file and tell it to pass the dates.** With only a single column which is a time column. And run the cell and now we see that the time is daytime64[ns] which means a 64 bit timestamp in a nanosecond resolution on your machine. This might be a little bit different.",
      "metadata": {}
    },
    {
      "id": "026c0f49-ff04-499e-ae83-6a4527ef3d78",
      "cell_type": "code",
      "source": "df = pd.read_csv(csv_file, parse_dates=['time'])\ndf.dtypes",
      "metadata": {
        "trusted": true
      },
      "outputs": [
        {
          "execution_count": 4,
          "output_type": "execute_result",
          "data": {
            "text/plain": "time      datetime64[ns]\nlat              float64\nlng              float64\nheight           float64\ndtype: object"
          },
          "metadata": {}
        }
      ],
      "execution_count": 4
    },
    {
      "id": "fa5048f1-be6f-44d9-913c-f7383c874fac",
      "cell_type": "markdown",
      "source": "<a href=\"https://github.com/browntruck246/Data-Science/blob/main/Data-Science-Foundations-Python/context.md\">Context</a>",
      "metadata": {}
    },
    {
      "id": "ef4f1235-2203-496a-80bd-ad11a56ea5af",
      "cell_type": "code",
      "source": "",
      "metadata": {
        "trusted": true
      },
      "outputs": [],
      "execution_count": null
    }
  ]
}