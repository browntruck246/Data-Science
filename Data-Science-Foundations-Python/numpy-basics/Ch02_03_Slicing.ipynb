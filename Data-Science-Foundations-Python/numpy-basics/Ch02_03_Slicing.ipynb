{
  "metadata": {
    "kernelspec": {
      "name": "python",
      "display_name": "Python (Pyodide)",
      "language": "python"
    },
    "language_info": {
      "codemirror_mode": {
        "name": "python",
        "version": 3
      },
      "file_extension": ".py",
      "mimetype": "text/x-python",
      "name": "python",
      "nbconvert_exporter": "python",
      "pygments_lexer": "ipython3",
      "version": "3.8"
    }
  },
  "nbformat_minor": 4,
  "nbformat": 4,
  "cells": [
    {
      "cell_type": "markdown",
      "source": "# Ch02/02_03",
      "metadata": {}
    },
    {
      "cell_type": "markdown",
      "source": "Python lists support slicing. Here's an example. Nums is a list of 1,2,3,4,5 and we do a slice from 2 to 4. It's going to run it. We're going to get 3 and 4. We start with the index 2 and index 3 and up two, but not including index 4.",
      "metadata": {}
    },
    {
      "cell_type": "code",
      "source": "nums = [1, 2, 3, 4, 5]\nnums[2:4]",
      "metadata": {
        "trusted": true
      },
      "outputs": [
        {
          "execution_count": 2,
          "output_type": "execute_result",
          "data": {
            "text/plain": "[3, 4]"
          },
          "metadata": {}
        }
      ],
      "execution_count": 2
    },
    {
      "cell_type": "markdown",
      "source": "These are half open ranges. You can do the same for Numpy arrays, so we create a vector with a range and then get a slice of this vector. Matrix slicing is useful since many times you'd like to take a subset of your data for training, testing, and other tasks.",
      "metadata": {}
    },
    {
      "cell_type": "code",
      "source": "import numpy as np\n\nv = np.arange(1, 5)\nv[2:4]",
      "metadata": {
        "trusted": true
      },
      "outputs": [
        {
          "execution_count": 3,
          "output_type": "execute_result",
          "data": {
            "text/plain": "array([3, 4])"
          },
          "metadata": {}
        }
      ],
      "execution_count": 3
    },
    {
      "cell_type": "markdown",
      "source": "Numpy takes slicing to a whole new level. Let's have a look. Let's create an array with three rows and four columns.",
      "metadata": {}
    },
    {
      "cell_type": "code",
      "source": "import numpy as np\n\narr = np.arange(12).reshape(3, 4)\narr",
      "metadata": {
        "trusted": true
      },
      "outputs": [
        {
          "execution_count": 4,
          "output_type": "execute_result",
          "data": {
            "text/plain": "array([[ 0,  1,  2,  3],\n       [ 4,  5,  6,  7],\n       [ 8,  9, 10, 11]])"
          },
          "metadata": {}
        }
      ],
      "execution_count": 4
    },
    {
      "cell_type": "markdown",
      "source": "When we take the array at location 0, we are going to get the 1st row.",
      "metadata": {}
    },
    {
      "cell_type": "code",
      "source": "import numpy as np\n\narr = np.arange(12).reshape(3, 4)\narr\n\narr[0]",
      "metadata": {
        "trusted": true
      },
      "outputs": [
        {
          "execution_count": 5,
          "output_type": "execute_result",
          "data": {
            "text/plain": "array([0, 1, 2, 3])"
          },
          "metadata": {}
        }
      ],
      "execution_count": 5
    },
    {
      "cell_type": "markdown",
      "source": "We can also say the second element in the 2nd row and this is 5 .",
      "metadata": {}
    },
    {
      "cell_type": "code",
      "source": "import numpy as np\n\narr = np.arange(12).reshape(3, 4)\narr",
      "metadata": {
        "trusted": true
      },
      "outputs": [
        {
          "execution_count": 7,
          "output_type": "execute_result",
          "data": {
            "text/plain": "array([[ 0,  1,  2,  3],\n       [ 4,  5,  6,  7],\n       [ 8,  9, 10, 11]])"
          },
          "metadata": {}
        }
      ],
      "execution_count": 7
    },
    {
      "cell_type": "code",
      "source": "arr[1,1]",
      "metadata": {
        "trusted": true
      },
      "outputs": [
        {
          "execution_count": 8,
          "output_type": "execute_result",
          "data": {
            "text/plain": "np.int32(5)"
          },
          "metadata": {}
        }
      ],
      "execution_count": 8
    },
    {
      "cell_type": "markdown",
      "source": "What happens if you want a column? We're going to use slicing. Say we want all the rows, but only the second element for every row, and now we're going to get 1, 5 and 9, which is the first column. Note that we get a flat array and not an array of ones.",
      "metadata": {}
    },
    {
      "cell_type": "code",
      "source": "import numpy as np\n\narr = np.arange(12).reshape(3, 4)\narr",
      "metadata": {
        "trusted": true
      },
      "outputs": [
        {
          "execution_count": 9,
          "output_type": "execute_result",
          "data": {
            "text/plain": "array([[ 0,  1,  2,  3],\n       [ 4,  5,  6,  7],\n       [ 8,  9, 10, 11]])"
          },
          "metadata": {}
        }
      ],
      "execution_count": 9
    },
    {
      "cell_type": "code",
      "source": "arr[:,1]",
      "metadata": {
        "trusted": true
      },
      "outputs": [
        {
          "execution_count": 10,
          "output_type": "execute_result",
          "data": {
            "text/plain": "array([1, 5, 9])"
          },
          "metadata": {}
        }
      ],
      "execution_count": 10
    },
    {
      "cell_type": "markdown",
      "source": "If you want to get the full array of ones you will need to reshape.So now we get it in a vertical format.",
      "metadata": {}
    },
    {
      "cell_type": "code",
      "source": "import numpy as np\n\narr = np.arange(12).reshape(3, 4)\narr",
      "metadata": {
        "trusted": true
      },
      "outputs": [
        {
          "execution_count": 11,
          "output_type": "execute_result",
          "data": {
            "text/plain": "array([[ 0,  1,  2,  3],\n       [ 4,  5,  6,  7],\n       [ 8,  9, 10, 11]])"
          },
          "metadata": {}
        }
      ],
      "execution_count": 11
    },
    {
      "cell_type": "code",
      "source": "arr[:,1]",
      "metadata": {
        "trusted": true
      },
      "outputs": [
        {
          "execution_count": 12,
          "output_type": "execute_result",
          "data": {
            "text/plain": "array([1, 5, 9])"
          },
          "metadata": {}
        }
      ],
      "execution_count": 12
    },
    {
      "cell_type": "code",
      "source": "arr[:,1].reshape((3, 1))",
      "metadata": {
        "trusted": true
      },
      "outputs": [
        {
          "execution_count": 13,
          "output_type": "execute_result",
          "data": {
            "text/plain": "array([[1],\n       [5],\n       [9]])"
          },
          "metadata": {}
        }
      ],
      "execution_count": 13
    },
    {
      "cell_type": "markdown",
      "source": "You can do slicing on both axes, so all the rows from the 2nd row and the columns from the third column.",
      "metadata": {}
    },
    {
      "cell_type": "code",
      "source": "import numpy as np\n\narr = np.arange(12).reshape(3, 4)\narr",
      "metadata": {
        "trusted": true
      },
      "outputs": [
        {
          "execution_count": 14,
          "output_type": "execute_result",
          "data": {
            "text/plain": "array([[ 0,  1,  2,  3],\n       [ 4,  5,  6,  7],\n       [ 8,  9, 10, 11]])"
          },
          "metadata": {}
        }
      ],
      "execution_count": 14
    },
    {
      "cell_type": "code",
      "source": "arr[1:]",
      "metadata": {
        "trusted": true
      },
      "outputs": [
        {
          "execution_count": 15,
          "output_type": "execute_result",
          "data": {
            "text/plain": "array([[ 4,  5,  6,  7],\n       [ 8,  9, 10, 11]])"
          },
          "metadata": {}
        }
      ],
      "execution_count": 15
    },
    {
      "cell_type": "code",
      "source": "arr[1:, 2:]",
      "metadata": {
        "trusted": true
      },
      "outputs": [
        {
          "execution_count": 16,
          "output_type": "execute_result",
          "data": {
            "text/plain": "array([[ 6,  7],\n       [10, 11]])"
          },
          "metadata": {}
        }
      ],
      "execution_count": 16
    },
    {
      "cell_type": "markdown",
      "source": "You can also use slicing to set values, so I'm doing the slicing as before, but now equals 7 and now when I'm looking at the array I'm seeing that the bottom right is all 7.",
      "metadata": {}
    },
    {
      "cell_type": "code",
      "source": "",
      "metadata": {
        "trusted": true
      },
      "outputs": [],
      "execution_count": null
    }
  ]
}