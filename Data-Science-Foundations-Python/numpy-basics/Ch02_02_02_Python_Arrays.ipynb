{
  "metadata": {
    "kernelspec": {
      "name": "python",
      "display_name": "Python (Pyodide)",
      "language": "python"
    },
    "language_info": {
      "codemirror_mode": {
        "name": "python",
        "version": 3
      },
      "file_extension": ".py",
      "mimetype": "text/x-python",
      "name": "python",
      "nbconvert_exporter": "python",
      "pygments_lexer": "ipython3",
      "version": "3.8"
    }
  },
  "nbformat_minor": 4,
  "nbformat": 4,
  "cells": [
    {
      "cell_type": "markdown",
      "source": "Let's start looking into Numpy arrays. So first we import Numpy as np. And now I'm creating an array of three elements with 1, 2 and 3 run this. And we have an array 1, 2 and for starts. Arrays look very much like lists.",
      "metadata": {}
    },
    {
      "cell_type": "code",
      "source": "import numpy as np\n\narr = np.array([1,2,3])\n\nprint( arr )",
      "metadata": {
        "trusted": true
      },
      "outputs": [
        {
          "name": "stdout",
          "output_type": "stream",
          "text": "[1 2 3]\n"
        }
      ],
      "execution_count": 1
    },
    {
      "cell_type": "markdown",
      "source": "So we can ask for the length.",
      "metadata": {}
    },
    {
      "cell_type": "code",
      "source": "import numpy as np\n\narr = np.array([1,2,3])\n\nlen(arr)",
      "metadata": {
        "trusted": true
      },
      "outputs": [
        {
          "execution_count": 2,
          "output_type": "execute_result",
          "data": {
            "text/plain": "3"
          },
          "metadata": {}
        }
      ],
      "execution_count": 2
    },
    {
      "cell_type": "markdown",
      "source": "We can get the second element and arrays are 0 based indexing like the rest of Python.",
      "metadata": {}
    },
    {
      "cell_type": "code",
      "source": "import numpy as np\n\narr = np.array([1,2,3])\n\nprint( arr[1] )",
      "metadata": {
        "trusted": true
      },
      "outputs": [
        {
          "name": "stdout",
          "output_type": "stream",
          "text": "2\n"
        }
      ],
      "execution_count": 3
    },
    {
      "cell_type": "markdown",
      "source": "But if you look closer, for example type of the 1st element, we see that it's not a Python integer but a Numpy int32.",
      "metadata": {}
    },
    {
      "cell_type": "code",
      "source": "import numpy as np\n\narr = np.array([1,2,3])\n\nprint( type ( arr[1] ) )",
      "metadata": {
        "trusted": true
      },
      "outputs": [
        {
          "name": "stdout",
          "output_type": "stream",
          "text": "<class 'numpy.int32'>\n"
        }
      ],
      "execution_count": 4
    },
    {
      "cell_type": "markdown",
      "source": "For you can ask array what is the data type of the array using the dtype attribute. When you create an array, Numpy will determine the default type for the array for the input. However, you can specify explicitly the data type of the array to be created. This here is saying dtype np.int32 and we're going to get an array of int 32 comparing to any 64. This takes half the memory, but you need to make sure that all of your values fits inside a 32 bit integer.",
      "metadata": {}
    },
    {
      "cell_type": "code",
      "source": "import numpy as np\n\narr32 = np.array([1,2,3], dtype=np.int32)\narr32.dtype",
      "metadata": {
        "trusted": true
      },
      "outputs": [
        {
          "execution_count": 5,
          "output_type": "execute_result",
          "data": {
            "text/plain": "dtype('int32')"
          },
          "metadata": {}
        }
      ],
      "execution_count": 5
    },
    {
      "cell_type": "markdown",
      "source": "You can multiply an array by itself. And what you're going to get is an elementwise multiplication, so 1 * 1 = 1, 2 * 2 = 4 and 3 * 3 = 9. I talked about Numpy and being fast. Let's have a look.",
      "metadata": {}
    },
    {
      "cell_type": "code",
      "source": "import numpy as np\n\narr = np.array([1,2,3])\narr * arr",
      "metadata": {
        "trusted": true
      },
      "outputs": [
        {
          "execution_count": 6,
          "output_type": "execute_result",
          "data": {
            "text/plain": "array([1, 4, 9])"
          },
          "metadata": {}
        }
      ],
      "execution_count": 6
    },
    {
      "cell_type": "markdown",
      "source": "So I'm creating 2 arrays, each one with 1,000,000 random elements which are floats, and then I'm going to use the time magic to see how much time it takes. To multiply them and that took 6.27 milliseconds.",
      "metadata": {}
    },
    {
      "cell_type": "code",
      "source": "import numpy as np\n\nv1 = np.random.rand(1_000_000)\nv2 = np.random.rand(1_000_000)\n%time v1 * v2",
      "metadata": {
        "trusted": true
      },
      "outputs": [
        {
          "name": "stdout",
          "output_type": "stream",
          "text": "CPU times: user 0 ns, sys: 0 ns, total: 0 ns\nWall time: 6 ms\n"
        },
        {
          "execution_count": 7,
          "output_type": "execute_result",
          "data": {
            "text/plain": "array([0.20393425, 0.59213501, 0.19815701, ..., 0.2146252 , 0.0389571 ,\n       0.07216258])"
          },
          "metadata": {}
        }
      ],
      "execution_count": 7
    },
    {
      "cell_type": "markdown",
      "source": "If you'd like to get the Dot Product of a matrix. Use the @ sign, which is the Python matrix multiplication operator. If we want to sell now, we're going to see 14, which is a dot product of these two arrays, we can move to more dimensions. So here's an array with three rows and three columns, and we can run this one. And now we can see the. That's a lot of code to write for a small sample metrics.",
      "metadata": {}
    },
    {
      "cell_type": "code",
      "source": "import numpy as np\n\narr = np.array([1, 2, 3])\n\narr @ arr",
      "metadata": {
        "trusted": true
      },
      "outputs": [
        {
          "execution_count": 8,
          "output_type": "execute_result",
          "data": {
            "text/plain": "np.int32(14)"
          },
          "metadata": {}
        }
      ],
      "execution_count": 8
    },
    {
      "cell_type": "markdown",
      "source": "# NOTE (calculate the Dot Product)",
      "metadata": {}
    },
    {
      "cell_type": "markdown",
      "source": "arr @ arr = [1,2,3] @ [1,2,3] = [1, 4, 9 ] =\n\n1 + 4 + 9 =\n\n14",
      "metadata": {}
    },
    {
      "cell_type": "code",
      "source": "",
      "metadata": {
        "trusted": true
      },
      "outputs": [],
      "execution_count": null
    }
  ]
}